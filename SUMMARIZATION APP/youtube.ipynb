{
 "cells": [
  {
   "cell_type": "code",
   "execution_count": 3,
   "id": "8af46864",
   "metadata": {},
   "outputs": [
    {
     "name": "stdout",
     "output_type": "stream",
     "text": [
      "Transcript:\n",
      "\n",
      "All right, so here we are, in front of the\n",
      "elephants the cool thing about these guys is that they\n",
      "have really... really really long trunks and that's cool (baaaaaaaaaaahhh!!) and that's pretty much all there is to\n",
      "say\n"
     ]
    }
   ],
   "source": [
    "from langchain.document_loaders import YoutubeLoader\n",
    "\n",
    "# Replace with your YouTube URL\n",
    "video_url = \"https://www.youtube.com/watch?v=jNQXAC9IVRw\"\n",
    "\n",
    "# Create loader\n",
    "loader = YoutubeLoader.from_youtube_url(video_url, add_video_info=False)\n",
    "\n",
    "# Load the transcript\n",
    "docs = loader.load()\n",
    "\n",
    "# Display the content\n",
    "print(\"Transcript:\\n\")\n",
    "print(docs[0].page_content[:1000])  # Print first 1000 characters"
   ]
  },
  {
   "cell_type": "code",
   "execution_count": null,
   "id": "45a280d4",
   "metadata": {},
   "outputs": [],
   "source": []
  }
 ],
 "metadata": {
  "kernelspec": {
   "display_name": "Python 3",
   "language": "python",
   "name": "python3"
  },
  "language_info": {
   "codemirror_mode": {
    "name": "ipython",
    "version": 3
   },
   "file_extension": ".py",
   "mimetype": "text/x-python",
   "name": "python",
   "nbconvert_exporter": "python",
   "pygments_lexer": "ipython3",
   "version": "3.10.0"
  }
 },
 "nbformat": 4,
 "nbformat_minor": 5
}
